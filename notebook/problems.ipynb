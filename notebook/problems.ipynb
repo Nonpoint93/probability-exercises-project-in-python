{
 "cells": [
  {
   "cell_type": "markdown",
   "id": "a41f3622",
   "metadata": {},
   "source": [
    "# Probability exercises"
   ]
  },
  {
   "cell_type": "markdown",
   "id": "a6bdbd89",
   "metadata": {},
   "source": [
    "## Exercise 1 \n",
    "\n",
    "Two dices are thrown once and the total score is observed. Use a simulation to find the estimated probability that the total score is even or greater than 7.  A simulation is a repetition of the same experiment multiple times to observe its behavior:\n",
    "\n",
    "- Run the experiment 1000 times (roll 2 dice 1000 times, and sum the number of both dices).\n",
    "- Keep track of the number of times that the sum was either greater than 7 or an even number.\n",
    "- Divide the number from step 2 by the number of iterations (1000)."
   ]
  },
  {
   "cell_type": "code",
   "execution_count": null,
   "id": "8939d892",
   "metadata": {},
   "outputs": [
    {
     "name": "stdout",
     "output_type": "stream",
     "text": [
      "Estimated Probability: 0.658\n"
     ]
    }
   ],
   "source": [
    "import random\n",
    "\n",
    "\"\"\"\n",
    "This script simulates rolling two six-sided dice 1000 times \n",
    "to estimate the probability that the total is either even \n",
    "or greater than 7\n",
    "\"\"\"\n",
    "\n",
    "\n",
    "\"\"\"Simulates rolling a six-sided die\"\"\"\n",
    "def roll_dice() -> int: return random.randint(1, 6) \n",
    "\n",
    "count: int = 0\n",
    "\n",
    "for _ in range(1000):\n",
    "    d_1: int = roll_dice()\n",
    "    d_2: int = roll_dice()\n",
    "    total = d_1 + d_2\n",
    "    if total > 7 or total % 2 == 0:\n",
    "        count += 1\n",
    "\n",
    "print(f\"Estimated Probability: {count / 1000}\")\n"
   ]
  },
  {
   "cell_type": "markdown",
   "id": "55732bca",
   "metadata": {},
   "source": [
    "## Exercise 2\n",
    "\n",
    "A box contains 10 white balls, 20 red balls and 30 green balls. If we take 5 balls from the box with replacement (we take the ball, observe what color it is and put it back into the box). We want to know the probability of:\n",
    "\n",
    "1. Take 3 white and 2 red.\n",
    "2. Take all of the same color.\n",
    "\n",
    "Run the experiment 1000 times and calculate the above probabilities."
   ]
  },
  {
   "cell_type": "code",
   "execution_count": null,
   "id": "23244d20",
   "metadata": {},
   "outputs": [
    {
     "name": "stdout",
     "output_type": "stream",
     "text": [
      "{0: 'White', 1: 'White', 2: 'White', 3: 'White', 4: 'White', 5: 'White', 6: 'White', 7: 'White', 8: 'White', 9: 'White', 10: 'Red', 11: 'Red', 12: 'Red', 13: 'Red', 14: 'Red', 15: 'Red', 16: 'Red', 17: 'Red', 18: 'Red', 19: 'Red', 20: 'Red', 21: 'Red', 22: 'Red', 23: 'Red', 24: 'Red', 25: 'Red', 26: 'Red', 27: 'Red', 28: 'Red', 29: 'Red', 30: 'Green', 31: 'Green', 32: 'Green', 33: 'Green', 34: 'Green', 35: 'Green', 36: 'Green', 37: 'Green', 38: 'Green', 39: 'Green', 40: 'Green', 41: 'Green', 42: 'Green', 43: 'Green', 44: 'Green', 45: 'Green', 46: 'Green', 47: 'Green', 48: 'Green', 49: 'Green', 50: 'Green', 51: 'Green', 52: 'Green', 53: 'Green', 54: 'Green', 55: 'Green', 56: 'Green', 57: 'Green', 58: 'Green', 59: 'Green'}\n",
      "Estimated Probability: 0.048\n"
     ]
    }
   ],
   "source": [
    "import random\n",
    "\n",
    "ball_box = {}\n",
    "count_condition = 0\n",
    "\n",
    "def get_random_ball() -> int: \n",
    "    \"\"\"\n",
    "    Simulates drawing a random ball from a box containing 60 balls.\n",
    "\n",
    "    Each ball is assigned a unique number from 0 to 59, and the function\n",
    "    returns a randomly selected number.\n",
    "\n",
    "    Returns:\n",
    "        int: A random number between 0 and 59 representing a ball.\n",
    "    \"\"\"\n",
    "    return random.randint(0, 59)\n",
    "\n",
    "def is_white_and_red(colors) -> bool: \n",
    "    \"\"\"\n",
    "    Checks if the specified condition of 3 white balls and 2 red balls is met.\n",
    "\n",
    "    Args:\n",
    "        colors (dict): A dictionary containing the counts of different colored balls.\n",
    "                       For example: {\"White\": 3, \"Red\": 2, \"Green\": 0}\n",
    "\n",
    "    Returns:\n",
    "        bool: True if the count of white balls is 3 and red balls is 2, False otherwise.\n",
    "    \"\"\"\n",
    "    return colors[\"White\"] == 3 and colors[\"Red\"] == 2\n",
    "\n",
    "# Create the box of balls\n",
    "for i in range(60):\n",
    "    if i < 10:\n",
    "        ball_box[i] = \"White\"\n",
    "    elif (i > 9) and (i < 30):\n",
    "        ball_box[i] = \"Red\"\n",
    "    else:\n",
    "        ball_box[i] = \"Green\"\n",
    "\n",
    "print(ball_box)\n",
    "\n",
    "\n",
    "for _ in range(1000):\n",
    "    colors = {\"White\": 0, \"Red\": 0, \"Green\": 0}\n",
    "    for i in range(5):\n",
    "        color = ball_box[get_random_ball()]\n",
    "        colors[color] += 1\n",
    "    if 5 in colors.values() or is_white_and_red(colors):\n",
    "        count_condition += 1\n",
    "\n",
    "print(f\"Estimated Probability: {count_condition / 1000}\")"
   ]
  }
 ],
 "metadata": {
  "kernelspec": {
   "display_name": "Python 3",
   "language": "python",
   "name": "python3"
  },
  "language_info": {
   "codemirror_mode": {
    "name": "ipython",
    "version": 3
   },
   "file_extension": ".py",
   "mimetype": "text/x-python",
   "name": "python",
   "nbconvert_exporter": "python",
   "pygments_lexer": "ipython3",
   "version": "3.11.4"
  }
 },
 "nbformat": 4,
 "nbformat_minor": 5
}
